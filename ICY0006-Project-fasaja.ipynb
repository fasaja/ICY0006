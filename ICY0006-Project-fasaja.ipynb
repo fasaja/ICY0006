{
 "cells": [
  {
   "cell_type": "markdown",
   "metadata": {},
   "source": [
    "# New Car Sales in Norway by Make\n",
    "In this project, the monthly car sales in Norway by make from 2007 to 2017 are examined.\n",
    "The public dataset used in this project is used from www.kaggle.com website and the exact link to the dataset is https://www.kaggle.com/dmi3kno/newcarsalesnorway\n",
    "There are five different variables in this dataset as Year (year of sales month/numerical), Month (month of sales make/numerical), Make (car make such as Mazda/categorical), Quantity (number of cars sold/numerical) and Pct (percent share in monthly total/numerical)."
   ]
  },
  {
   "cell_type": "markdown",
   "metadata": {},
   "source": [
    "# Stage 1"
   ]
  },
  {
   "cell_type": "code",
   "execution_count": 6,
   "metadata": {},
   "outputs": [
    {
     "name": "stderr",
     "output_type": "stream",
     "text": [
      "Parsed with column specification:\n",
      "cols(\n",
      "  Year = col_double(),\n",
      "  Month = col_double(),\n",
      "  Make = col_character(),\n",
      "  Quantity = col_double(),\n",
      "  Pct = col_double()\n",
      ")\n"
     ]
    }
   ],
   "source": [
    "norway<-read_csv(\"norway_new_car_sales_by_make.csv\")"
   ]
  },
  {
   "cell_type": "code",
   "execution_count": 44,
   "metadata": {},
   "outputs": [
    {
     "name": "stdout",
     "output_type": "stream",
     "text": [
      "Classes 'spec_tbl_df', 'tbl_df', 'tbl' and 'data.frame':\t4367 obs. of  5 variables:\n",
      " $ Year    : num  2007 2007 2007 2007 2007 ...\n",
      " $ Month   : num  1 1 1 1 1 1 1 1 1 1 ...\n",
      " $ Make    : chr  \"Toyota\" \"Volkswagen\" \"Peugeot\" \"Ford\" ...\n",
      " $ Quantity: num  2884 2521 1029 870 693 ...\n",
      " $ Pct     : num  22.7 19.9 8.1 6.9 5.5 5.2 4.9 4.7 3.3 2.9 ...\n",
      " - attr(*, \"spec\")=\n",
      "  .. cols(\n",
      "  ..   Year = col_double(),\n",
      "  ..   Month = col_double(),\n",
      "  ..   Make = col_character(),\n",
      "  ..   Quantity = col_double(),\n",
      "  ..   Pct = col_double()\n",
      "  .. )\n"
     ]
    }
   ],
   "source": [
    "str(norway)"
   ]
  },
  {
   "cell_type": "markdown",
   "metadata": {},
   "source": [
    "In the below pie chart, sales in January 2007 by make are shown based on brands market share."
   ]
  },
  {
   "cell_type": "code",
   "execution_count": 15,
   "metadata": {},
   "outputs": [
    {
     "data": {
      "image/png": "[encoded data removed]",
      "text/plain": [
       "Plot with title \"Pie Chart of Sales in Jan. 2007\""
      ]
     },
     "metadata": {},
     "output_type": "display_data"
    }
   ],
   "source": [
    "slices <- c(2884, 2521, 1029, 870, 693, 665, 622, 599, 423, 362, 352, 263, 258, 191, 169, 168, 136, 127, 97, 55, 33, 26, 26, 22, 20, 16, 15, 14, 9, 4, 4, 3, 2, 2, 2, 1, 1)\n",
    "lbls <- c(\"Toyota\", \"Volkswagen\", \"Peugeot\", \"Ford\", \"Volvo\", \"Skoda\", \"Opel\", \"Audi\", \"Honda\", \"Mercedes\", \"BMW\", \"Citroen\", \"Suzuki\", \"Mazda\", \"Saab\", \"Renault\", \"Mitsubishi\", \"Nissan\", \"Hyundai\", \"Kia\", \"Dodge\", \"MINI\", \"Subaru\", \"Lexus\", \"Chevrolet\", \"Alfa Romeo\", \"Daihatsu\", \"Land Rover\", \"Fiat\", \"Chrysler\", \"Iveco\", \"Jaguar\", \"Jeep\", \"Nilsson\", \"Think\", \"Smart\", \"Ssangyong\")\n",
    "\n",
    "pie(slices, labels = lbls, main=\"Pie Chart of Sales in Jan. 2007\")"
   ]
  },
  {
   "cell_type": "markdown",
   "metadata": {},
   "source": [
    "# Stage 2"
   ]
  },
  {
   "cell_type": "code",
   "execution_count": 43,
   "metadata": {},
   "outputs": [
    {
     "data": {
      "text/html": [
       "2011.42546370506"
      ],
      "text/latex": [
       "2011.42546370506"
      ],
      "text/markdown": [
       "2011.42546370506"
      ],
      "text/plain": [
       "[1] 2011.425"
      ]
     },
     "metadata": {},
     "output_type": "display_data"
    }
   ],
   "source": [
    "#Mean for Year\n",
    "mean(norway$Year)"
   ]
  },
  {
   "cell_type": "code",
   "execution_count": 42,
   "metadata": {},
   "outputs": [
    {
     "data": {
      "text/html": [
       "6.45935424776735"
      ],
      "text/latex": [
       "6.45935424776735"
      ],
      "text/markdown": [
       "6.45935424776735"
      ],
      "text/plain": [
       "[1] 6.459354"
      ]
     },
     "metadata": {},
     "output_type": "display_data"
    }
   ],
   "source": [
    "#Mean for Month\n",
    "mean(norway$Month)"
   ]
  },
  {
   "cell_type": "code",
   "execution_count": 41,
   "metadata": {},
   "outputs": [
    {
     "data": {
      "text/html": [
       "308.503320357225"
      ],
      "text/latex": [
       "308.503320357225"
      ],
      "text/markdown": [
       "308.503320357225"
      ],
      "text/plain": [
       "[1] 308.5033"
      ]
     },
     "metadata": {},
     "output_type": "display_data"
    }
   ],
   "source": [
    "#Mean for Quantty\n",
    "mean(norway$Quantity)"
   ]
  },
  {
   "cell_type": "code",
   "execution_count": 40,
   "metadata": {},
   "outputs": [
    {
     "data": {
      "text/html": [
       "2.76858255095031"
      ],
      "text/latex": [
       "2.76858255095031"
      ],
      "text/markdown": [
       "2.76858255095031"
      ],
      "text/plain": [
       "[1] 2.768583"
      ]
     },
     "metadata": {},
     "output_type": "display_data"
    }
   ],
   "source": [
    "#Mean for Pct\n",
    "mean(norway$Pct)"
   ]
  },
  {
   "cell_type": "code",
   "execution_count": 39,
   "metadata": {},
   "outputs": [
    {
     "data": {
      "text/html": [
       "2011"
      ],
      "text/latex": [
       "2011"
      ],
      "text/markdown": [
       "2011"
      ],
      "text/plain": [
       "[1] 2011"
      ]
     },
     "metadata": {},
     "output_type": "display_data"
    }
   ],
   "source": [
    "#Median for Year\n",
    "median(norway$Year)"
   ]
  },
  {
   "cell_type": "code",
   "execution_count": 38,
   "metadata": {},
   "outputs": [
    {
     "data": {
      "text/html": [
       "6"
      ],
      "text/latex": [
       "6"
      ],
      "text/markdown": [
       "6"
      ],
      "text/plain": [
       "[1] 6"
      ]
     },
     "metadata": {},
     "output_type": "display_data"
    }
   ],
   "source": [
    "#Median for Month\n",
    "median(norway$Month)"
   ]
  },
  {
   "cell_type": "code",
   "execution_count": 37,
   "metadata": {},
   "outputs": [
    {
     "data": {
      "text/html": [
       "155"
      ],
      "text/latex": [
       "155"
      ],
      "text/markdown": [
       "155"
      ],
      "text/plain": [
       "[1] 155"
      ]
     },
     "metadata": {},
     "output_type": "display_data"
    }
   ],
   "source": [
    "#Median for Quantity\n",
    "median(norway$Quantity)"
   ]
  },
  {
   "cell_type": "code",
   "execution_count": 36,
   "metadata": {},
   "outputs": [
    {
     "data": {
      "text/html": [
       "1.4"
      ],
      "text/latex": [
       "1.4"
      ],
      "text/markdown": [
       "1.4"
      ],
      "text/plain": [
       "[1] 1.4"
      ]
     },
     "metadata": {},
     "output_type": "display_data"
    }
   ],
   "source": [
    "#Median for Pct\n",
    "median(norway$Pct)"
   ]
  },
  {
   "cell_type": "code",
   "execution_count": 31,
   "metadata": {},
   "outputs": [
    {
     "data": {
      "text/html": [
       "'2008'"
      ],
      "text/latex": [
       "'2008'"
      ],
      "text/markdown": [
       "'2008'"
      ],
      "text/plain": [
       "[1] \"2008\""
      ]
     },
     "metadata": {},
     "output_type": "display_data"
    }
   ],
   "source": [
    "#Mode for Year\n",
    "names(table(norway$Year))[table(norway$Year)==max(table(norway$Year))]"
   ]
  },
  {
   "cell_type": "code",
   "execution_count": 30,
   "metadata": {},
   "outputs": [
    {
     "data": {
      "text/html": [
       "'1'"
      ],
      "text/latex": [
       "'1'"
      ],
      "text/markdown": [
       "'1'"
      ],
      "text/plain": [
       "[1] \"1\""
      ]
     },
     "metadata": {},
     "output_type": "display_data"
    }
   ],
   "source": [
    "#Mode for Month\n",
    "names(table(norway$Month))[table(norway$Month)==max(table(norway$Month))]"
   ]
  },
  {
   "cell_type": "code",
   "execution_count": 34,
   "metadata": {},
   "outputs": [
    {
     "data": {
      "text/html": [
       "'1'"
      ],
      "text/latex": [
       "'1'"
      ],
      "text/markdown": [
       "'1'"
      ],
      "text/plain": [
       "[1] \"1\""
      ]
     },
     "metadata": {},
     "output_type": "display_data"
    }
   ],
   "source": [
    "#Mode for Quantity\n",
    "names(table(norway$Quantity))[table(norway$Quantity)==max(table(norway$Quantity))]"
   ]
  },
  {
   "cell_type": "code",
   "execution_count": 33,
   "metadata": {},
   "outputs": [
    {
     "data": {
      "text/html": [
       "'0'"
      ],
      "text/latex": [
       "'0'"
      ],
      "text/markdown": [
       "'0'"
      ],
      "text/plain": [
       "[1] \"0\""
      ]
     },
     "metadata": {},
     "output_type": "display_data"
    }
   ],
   "source": [
    "#Mode for Pct\n",
    "names(table(norway$Pct))[table(norway$Pct)==max(table(norway$Pct))]"
   ]
  },
  {
   "cell_type": "code",
   "execution_count": 51,
   "metadata": {},
   "outputs": [
    {
     "data": {
      "text/html": [
       "8.44514164818993"
      ],
      "text/latex": [
       "8.44514164818993"
      ],
      "text/markdown": [
       "8.44514164818993"
      ],
      "text/plain": [
       "[1] 8.445142"
      ]
     },
     "metadata": {},
     "output_type": "display_data"
    }
   ],
   "source": [
    "#Measures of Variablity - Variance for Year\n",
    "var (norway$Year)"
   ]
  },
  {
   "cell_type": "code",
   "execution_count": 46,
   "metadata": {},
   "outputs": [
    {
     "data": {
      "text/html": [
       "11.8860594088362"
      ],
      "text/latex": [
       "11.8860594088362"
      ],
      "text/markdown": [
       "11.8860594088362"
      ],
      "text/plain": [
       "[1] 11.88606"
      ]
     },
     "metadata": {},
     "output_type": "display_data"
    }
   ],
   "source": [
    "#Measures of Variablity - Variance for Month\n",
    "var (norway$Month)"
   ]
  },
  {
   "cell_type": "code",
   "execution_count": 47,
   "metadata": {},
   "outputs": [
    {
     "data": {
      "text/html": [
       "169352.296312839"
      ],
      "text/latex": [
       "169352.296312839"
      ],
      "text/markdown": [
       "169352.296312839"
      ],
      "text/plain": [
       "[1] 169352.3"
      ]
     },
     "metadata": {},
     "output_type": "display_data"
    }
   ],
   "source": [
    "#Measures of Variablity - Variance for Quantity\n",
    "var (norway$Quantity)"
   ]
  },
  {
   "cell_type": "code",
   "execution_count": 48,
   "metadata": {},
   "outputs": [
    {
     "data": {
      "text/html": [
       "13.2273178025631"
      ],
      "text/latex": [
       "13.2273178025631"
      ],
      "text/markdown": [
       "13.2273178025631"
      ],
      "text/plain": [
       "[1] 13.22732"
      ]
     },
     "metadata": {},
     "output_type": "display_data"
    }
   ],
   "source": [
    "#Measures of Variablity - Variance for Pct\n",
    "var (norway$Pct)"
   ]
  },
  {
   "cell_type": "code",
   "execution_count": 52,
   "metadata": {},
   "outputs": [
    {
     "data": {
      "text/html": [
       "2.90605258868279"
      ],
      "text/latex": [
       "2.90605258868279"
      ],
      "text/markdown": [
       "2.90605258868279"
      ],
      "text/plain": [
       "[1] 2.906053"
      ]
     },
     "metadata": {},
     "output_type": "display_data"
    }
   ],
   "source": [
    "#Measures of Variablity - Standard Deviation for Year\n",
    "sqrt (var (norway$Year))"
   ]
  },
  {
   "cell_type": "code",
   "execution_count": 50,
   "metadata": {},
   "outputs": [
    {
     "data": {
      "text/html": [
       "3.44761648227238"
      ],
      "text/latex": [
       "3.44761648227238"
      ],
      "text/markdown": [
       "3.44761648227238"
      ],
      "text/plain": [
       "[1] 3.447616"
      ]
     },
     "metadata": {},
     "output_type": "display_data"
    }
   ],
   "source": [
    "#Measures of Variablity - Standard Deviation for Month\n",
    "sqrt (var (norway$Month))"
   ]
  },
  {
   "cell_type": "code",
   "execution_count": 53,
   "metadata": {},
   "outputs": [
    {
     "data": {
      "text/html": [
       "411.52435688892"
      ],
      "text/latex": [
       "411.52435688892"
      ],
      "text/markdown": [
       "411.52435688892"
      ],
      "text/plain": [
       "[1] 411.5244"
      ]
     },
     "metadata": {},
     "output_type": "display_data"
    }
   ],
   "source": [
    "#Measures of Variablity - Standard Deviation for Quantity\n",
    "sqrt (var (norway$Quantity))"
   ]
  },
  {
   "cell_type": "code",
   "execution_count": 54,
   "metadata": {},
   "outputs": [
    {
     "data": {
      "text/html": [
       "3.6369379706785"
      ],
      "text/latex": [
       "3.6369379706785"
      ],
      "text/markdown": [
       "3.6369379706785"
      ],
      "text/plain": [
       "[1] 3.636938"
      ]
     },
     "metadata": {},
     "output_type": "display_data"
    }
   ],
   "source": [
    "#Measures of Variablity - Standard Deviation for Pct\n",
    "sqrt (var (norway$Pct))"
   ]
  },
  {
   "cell_type": "code",
   "execution_count": 56,
   "metadata": {},
   "outputs": [
    {
     "data": {
      "text/html": [
       "<ol class=list-inline>\n",
       "\t<li>2007</li>\n",
       "\t<li>2017</li>\n",
       "</ol>\n"
      ],
      "text/latex": [
       "\\begin{enumerate*}\n",
       "\\item 2007\n",
       "\\item 2017\n",
       "\\end{enumerate*}\n"
      ],
      "text/markdown": [
       "1. 2007\n",
       "2. 2017\n",
       "\n",
       "\n"
      ],
      "text/plain": [
       "[1] 2007 2017"
      ]
     },
     "metadata": {},
     "output_type": "display_data"
    },
    {
     "data": {
      "text/html": [
       "10"
      ],
      "text/latex": [
       "10"
      ],
      "text/markdown": [
       "10"
      ],
      "text/plain": [
       "[1] 10"
      ]
     },
     "metadata": {},
     "output_type": "display_data"
    }
   ],
   "source": [
    "#Measures of Variablity - Range for Year\n",
    "range (norway$Year)\n",
    "max (norway$Year) - min (norway$Year)"
   ]
  },
  {
   "cell_type": "code",
   "execution_count": 57,
   "metadata": {},
   "outputs": [
    {
     "data": {
      "text/html": [
       "<ol class=list-inline>\n",
       "\t<li>1</li>\n",
       "\t<li>12</li>\n",
       "</ol>\n"
      ],
      "text/latex": [
       "\\begin{enumerate*}\n",
       "\\item 1\n",
       "\\item 12\n",
       "\\end{enumerate*}\n"
      ],
      "text/markdown": [
       "1. 1\n",
       "2. 12\n",
       "\n",
       "\n"
      ],
      "text/plain": [
       "[1]  1 12"
      ]
     },
     "metadata": {},
     "output_type": "display_data"
    },
    {
     "data": {
      "text/html": [
       "11"
      ],
      "text/latex": [
       "11"
      ],
      "text/markdown": [
       "11"
      ],
      "text/plain": [
       "[1] 11"
      ]
     },
     "metadata": {},
     "output_type": "display_data"
    }
   ],
   "source": [
    "#Measures of Variablity - Range for Month\n",
    "range (norway$Month)\n",
    "max (norway$Month) - min (norway$Month)"
   ]
  },
  {
   "cell_type": "code",
   "execution_count": 58,
   "metadata": {},
   "outputs": [
    {
     "data": {
      "text/html": [
       "<ol class=list-inline>\n",
       "\t<li>1</li>\n",
       "\t<li>3017</li>\n",
       "</ol>\n"
      ],
      "text/latex": [
       "\\begin{enumerate*}\n",
       "\\item 1\n",
       "\\item 3017\n",
       "\\end{enumerate*}\n"
      ],
      "text/markdown": [
       "1. 1\n",
       "2. 3017\n",
       "\n",
       "\n"
      ],
      "text/plain": [
       "[1]    1 3017"
      ]
     },
     "metadata": {},
     "output_type": "display_data"
    },
    {
     "data": {
      "text/html": [
       "3016"
      ],
      "text/latex": [
       "3016"
      ],
      "text/markdown": [
       "3016"
      ],
      "text/plain": [
       "[1] 3016"
      ]
     },
     "metadata": {},
     "output_type": "display_data"
    }
   ],
   "source": [
    "#Measures of Variablity - Range for Quantity\n",
    "range (norway$Quantity)\n",
    "max (norway$Quantity) - min (norway$Quantity)"
   ]
  },
  {
   "cell_type": "code",
   "execution_count": 59,
   "metadata": {},
   "outputs": [
    {
     "data": {
      "text/html": [
       "<ol class=list-inline>\n",
       "\t<li>0</li>\n",
       "\t<li>22.7</li>\n",
       "</ol>\n"
      ],
      "text/latex": [
       "\\begin{enumerate*}\n",
       "\\item 0\n",
       "\\item 22.7\n",
       "\\end{enumerate*}\n"
      ],
      "text/markdown": [
       "1. 0\n",
       "2. 22.7\n",
       "\n",
       "\n"
      ],
      "text/plain": [
       "[1]  0.0 22.7"
      ]
     },
     "metadata": {},
     "output_type": "display_data"
    },
    {
     "data": {
      "text/html": [
       "22.7"
      ],
      "text/latex": [
       "22.7"
      ],
      "text/markdown": [
       "22.7"
      ],
      "text/plain": [
       "[1] 22.7"
      ]
     },
     "metadata": {},
     "output_type": "display_data"
    }
   ],
   "source": [
    "#Measures of Variablity - Range for Pct\n",
    "range (norway$Pct)\n",
    "max (norway$Pct) - min (norway$Pct)"
   ]
  },
  {
   "cell_type": "code",
   "execution_count": 62,
   "metadata": {},
   "outputs": [
    {
     "data": {
      "text/html": [
       "2.52118934979224"
      ],
      "text/latex": [
       "2.52118934979224"
      ],
      "text/markdown": [
       "2.52118934979224"
      ],
      "text/plain": [
       "[1] 2.521189"
      ]
     },
     "metadata": {},
     "output_type": "display_data"
    }
   ],
   "source": [
    "#Measures of Variablity - Mean Deviation for Year\n",
    "sum (abs (norway$Year - mean(norway$Year))) / length (norway$Year)"
   ]
  },
  {
   "cell_type": "code",
   "execution_count": 61,
   "metadata": {},
   "outputs": [
    {
     "data": {
      "text/html": [
       "2.99030706231956"
      ],
      "text/latex": [
       "2.99030706231956"
      ],
      "text/markdown": [
       "2.99030706231956"
      ],
      "text/plain": [
       "[1] 2.990307"
      ]
     },
     "metadata": {},
     "output_type": "display_data"
    }
   ],
   "source": [
    "#Measures of Variablity - Mean Deviation for Month\n",
    "sum (abs (norway$Month - mean(norway$Month))) / length (norway$Month)"
   ]
  },
  {
   "cell_type": "code",
   "execution_count": 63,
   "metadata": {},
   "outputs": [
    {
     "data": {
      "text/html": [
       "299.025544803337"
      ],
      "text/latex": [
       "299.025544803337"
      ],
      "text/markdown": [
       "299.025544803337"
      ],
      "text/plain": [
       "[1] 299.0255"
      ]
     },
     "metadata": {},
     "output_type": "display_data"
    }
   ],
   "source": [
    "#Measures of Variablity - Mean Deviation for Quantity\n",
    "sum (abs (norway$Quantity - mean(norway$Quantity))) / length (norway$Quantity)"
   ]
  },
  {
   "cell_type": "code",
   "execution_count": 64,
   "metadata": {},
   "outputs": [
    {
     "data": {
      "text/html": [
       "2.66839299828129"
      ],
      "text/latex": [
       "2.66839299828129"
      ],
      "text/markdown": [
       "2.66839299828129"
      ],
      "text/plain": [
       "[1] 2.668393"
      ]
     },
     "metadata": {},
     "output_type": "display_data"
    }
   ],
   "source": [
    "#Measures of Variablity - Mean Deviation for Pct\n",
    "sum (abs (norway$Pct - mean(norway$Pct))) / length (norway$Pct)"
   ]
  },
  {
   "cell_type": "code",
   "execution_count": 65,
   "metadata": {},
   "outputs": [
    {
     "data": {
      "text/html": [
       "5"
      ],
      "text/latex": [
       "5"
      ],
      "text/markdown": [
       "5"
      ],
      "text/plain": [
       "[1] 5"
      ]
     },
     "metadata": {},
     "output_type": "display_data"
    }
   ],
   "source": [
    "#Measures of Variablity - Interquartile Range for Year\n",
    "IQR (norway$Year)"
   ]
  },
  {
   "cell_type": "code",
   "execution_count": 66,
   "metadata": {},
   "outputs": [
    {
     "data": {
      "text/html": [
       "6"
      ],
      "text/latex": [
       "6"
      ],
      "text/markdown": [
       "6"
      ],
      "text/plain": [
       "[1] 6"
      ]
     },
     "metadata": {},
     "output_type": "display_data"
    }
   ],
   "source": [
    "#Measures of Variablity - Interquartile Range for Month\n",
    "IQR (norway$Month)"
   ]
  },
  {
   "cell_type": "code",
   "execution_count": 67,
   "metadata": {},
   "outputs": [
    {
     "data": {
      "text/html": [
       "449"
      ],
      "text/latex": [
       "449"
      ],
      "text/markdown": [
       "449"
      ],
      "text/plain": [
       "[1] 449"
      ]
     },
     "metadata": {},
     "output_type": "display_data"
    }
   ],
   "source": [
    "#Measures of Variablity - Interquartile Range for Quantity\n",
    "IQR (norway$Quantity)"
   ]
  },
  {
   "cell_type": "code",
   "execution_count": 68,
   "metadata": {},
   "outputs": [
    {
     "data": {
      "text/html": [
       "4.1"
      ],
      "text/latex": [
       "4.1"
      ],
      "text/markdown": [
       "4.1"
      ],
      "text/plain": [
       "[1] 4.1"
      ]
     },
     "metadata": {},
     "output_type": "display_data"
    }
   ],
   "source": [
    "#Measures of Variablity - Interquartile Range for Pct\n",
    "IQR (norway$Pct)"
   ]
  },
  {
   "cell_type": "markdown",
   "metadata": {},
   "source": [
    "Mean is used for calculating the average number of the given variables.\n",
    "Median is used for finding the middle number of the given variables.\n",
    "Mode is used for finding the most often used number of the given variables.\n",
    "Based on the information we can see that the variety of different brands sales happend on January.\n",
    "We can also compare the results with different graphs in the notebook and figure out some connections among them."
   ]
  },
  {
   "cell_type": "markdown",
   "metadata": {},
   "source": [
    "# Stage 3"
   ]
  },
  {
   "cell_type": "code",
   "execution_count": 69,
   "metadata": {},
   "outputs": [
    {
     "name": "stdout",
     "output_type": "stream",
     "text": [
      "'data.frame':\t4367 obs. of  2 variables:\n",
      " $ qty: num  2884 2521 1029 870 693 ...\n",
      " $ pc : num  22.7 19.9 8.1 6.9 5.5 5.2 4.9 4.7 3.3 2.9 ...\n"
     ]
    }
   ],
   "source": [
    "qty <- c (norway$Quantity)\n",
    "pc <- c (norway$Pct)\n",
    "new.data <- data.frame (qty, pc)\n",
    "str (new.data)"
   ]
  },
  {
   "cell_type": "code",
   "execution_count": 70,
   "metadata": {},
   "outputs": [
    {
     "data": {
      "text/html": [
       "<table>\n",
       "<thead><tr><th></th><th scope=col>qty</th><th scope=col>pc</th></tr></thead>\n",
       "<tbody>\n",
       "\t<tr><th scope=row>qty</th><td>1.0000000</td><td>0.9808712</td></tr>\n",
       "\t<tr><th scope=row>pc</th><td>0.9808712</td><td>1.0000000</td></tr>\n",
       "</tbody>\n",
       "</table>\n"
      ],
      "text/latex": [
       "\\begin{tabular}{r|ll}\n",
       "  & qty & pc\\\\\n",
       "\\hline\n",
       "\tqty & 1.0000000 & 0.9808712\\\\\n",
       "\tpc & 0.9808712 & 1.0000000\\\\\n",
       "\\end{tabular}\n"
      ],
      "text/markdown": [
       "\n",
       "| <!--/--> | qty | pc |\n",
       "|---|---|---|\n",
       "| qty | 1.0000000 | 0.9808712 |\n",
       "| pc | 0.9808712 | 1.0000000 |\n",
       "\n"
      ],
      "text/plain": [
       "    qty       pc       \n",
       "qty 1.0000000 0.9808712\n",
       "pc  0.9808712 1.0000000"
      ]
     },
     "metadata": {},
     "output_type": "display_data"
    }
   ],
   "source": [
    "cor (new.data)"
   ]
  },
  {
   "cell_type": "code",
   "execution_count": 74,
   "metadata": {},
   "outputs": [
    {
     "name": "stdout",
     "output_type": "stream",
     "text": [
      "package 'corrplot' successfully unpacked and MD5 sums checked\n",
      "\n",
      "The downloaded binary packages are in\n",
      "\tC:\\Users\\Admin\\AppData\\Local\\Temp\\RtmpsB9qXU\\downloaded_packages\n"
     ]
    },
    {
     "name": "stderr",
     "output_type": "stream",
     "text": [
      "Warning message:\n",
      "\"package 'corrplot' was built under R version 3.6.3\"corrplot 0.84 loaded\n"
     ]
    }
   ],
   "source": [
    "install.packages(\"corrplot\")\n",
    "library(corrplot)"
   ]
  },
  {
   "cell_type": "code",
   "execution_count": 75,
   "metadata": {},
   "outputs": [
    {
     "data": {
      "image/png": "[encoded data removed]",
      "text/plain": [
       "Plot with title \"\""
      ]
     },
     "metadata": {},
     "output_type": "display_data"
    }
   ],
   "source": [
    "corrplot (cor(new.data))"
   ]
  },
  {
   "cell_type": "markdown",
   "metadata": {},
   "source": [
    "Based on the variables in this project, only two variables of Quantity and Pct have linear relationships between them.\n",
    "New data frame has been created with only two desired variables and correlation matrix has been computed.\n",
    "in order to express it visually, it is needed to install \"corrplot\" package."
   ]
  },
  {
   "cell_type": "code",
   "execution_count": 76,
   "metadata": {},
   "outputs": [
    {
     "data": {
      "image/png": "[encoded data removed]",
      "text/plain": [
       "Plot with title \"Dependent variable vs dependent variable\""
      ]
     },
     "metadata": {},
     "output_type": "display_data"
    }
   ],
   "source": [
    "# Scatter plot for dependent variable vs dependent variable\n",
    "plot (norway$Pct, norway$Quantity, xlab = \"Percentage\", ylab = \"Quantity\", main = \"Dependent variable vs dependent variable\")"
   ]
  },
  {
   "cell_type": "code",
   "execution_count": 77,
   "metadata": {},
   "outputs": [
    {
     "data": {
      "image/png": "[encoded data removed]",
      "text/plain": [
       "Plot with title \"Dependent variable vs independent variable\""
      ]
     },
     "metadata": {},
     "output_type": "display_data"
    }
   ],
   "source": [
    "# Scatter plot for dependent variable vs independent variable\n",
    "plot (norway$Pct, norway$Year, xlab = \"Percentage\", ylab = \"Year\", main = \"Dependent variable vs independent variable\")"
   ]
  },
  {
   "cell_type": "markdown",
   "metadata": {},
   "source": [
    "As it is shown in the scatter plots, dependent variables and independent variables have no linear relationships."
   ]
  },
  {
   "cell_type": "code",
   "execution_count": 82,
   "metadata": {},
   "outputs": [
    {
     "name": "stdout",
     "output_type": "stream",
     "text": [
      "\n",
      "Call:\n",
      "lm(formula = norway$Year ~ norway$Pct, data = norway)\n",
      "\n",
      "Coefficients:\n",
      "(Intercept)   norway$Pct  \n",
      "  2.011e+03    2.506e-02  \n",
      "\n"
     ]
    }
   ],
   "source": [
    "#Linear Regression Model for dependent variable vs independent variable\n",
    "LinearRegressionModel <- lm(norway$Year ~ norway$Pct, data=norway)\n",
    "print (LinearRegressionModel)"
   ]
  },
  {
   "cell_type": "code",
   "execution_count": 84,
   "metadata": {},
   "outputs": [
    {
     "data": {
      "image/png": "[encoded data removed]",
      "text/plain": [
       "Plot with title \"Year ~ Pct\""
      ]
     },
     "metadata": {},
     "output_type": "display_data"
    }
   ],
   "source": [
    "#Scatter plot for dependent variable vs independent variable\n",
    "scatter.smooth(x=norway$Year, y=norway$Pct, main=\"Year ~ Pct\", xlab = \"Year\", ylab = \"Pct\")"
   ]
  },
  {
   "cell_type": "code",
   "execution_count": 83,
   "metadata": {},
   "outputs": [
    {
     "name": "stdout",
     "output_type": "stream",
     "text": [
      "\n",
      "Call:\n",
      "lm(formula = norway$Quantity ~ norway$Pct, data = norway)\n",
      "\n",
      "Coefficients:\n",
      "(Intercept)   norway$Pct  \n",
      "      1.227      110.987  \n",
      "\n"
     ]
    }
   ],
   "source": [
    "#Linear Regression Model for dependent variable vs dependent variable\n",
    "LinearRegressionModel2 <- lm(norway$Quantity ~ norway$Pct, data=norway)\n",
    "print (LinearRegressionModel2)"
   ]
  },
  {
   "cell_type": "code",
   "execution_count": 85,
   "metadata": {},
   "outputs": [
    {
     "data": {
      "image/png": "[encoded data removed]",
      "text/plain": [
       "Plot with title \"Quantity ~ Pct\""
      ]
     },
     "metadata": {},
     "output_type": "display_data"
    }
   ],
   "source": [
    "#Scatter plot for dependent variable vs dependent variable\n",
    "scatter.smooth(x=norway$Quantity, y=norway$Pct, main=\"Quantity ~ Pct\", xlab = \"Quantity\", ylab = \"Pct\")"
   ]
  },
  {
   "cell_type": "markdown",
   "metadata": {},
   "source": [
    "# Stage 4"
   ]
  },
  {
   "cell_type": "markdown",
   "metadata": {},
   "source": [
    "Swedish Lottery\n",
    "The Lotto is by far the most popular game of chance in Sweden. All Swedish Lotto Bets, by default, are for two separate draws, Lotto 1 and Lotto 2, giving you two different chances to win. It costs £0.50 for the Swedish Lotto 1 at or £1 to go for both Lotto 1 and Lotto 2.\n",
    "There are 6 prize tiers for the Swedish Lotto:\n",
    "Matched Numbers  Odds of Winning\n",
    "7                1:6,724,520\n",
    "6+1              1:240,161\n",
    "6                1:40,027\n",
    "5                1:847\n",
    "4                1:59\n",
    "3                1:55\n",
    "\n",
    "Swedish Lotto has no minimum jackpot as prizes are based on official ticket sales.\n",
    "The biggest Drömvinsten(Dream Win) of all time was 237, 697, 528 kr or about £19 million."
   ]
  },
  {
   "cell_type": "markdown",
   "metadata": {},
   "source": [
    "# Stage 5"
   ]
  },
  {
   "cell_type": "code",
   "execution_count": 86,
   "metadata": {},
   "outputs": [],
   "source": [
    "smp <- floor(0.7 * nrow(norway))\n",
    "set.seed(123)\n",
    "train_ind <- sample(seq_len(nrow(norway)), size = smp)\n",
    "training <- norway[train_ind, ]\n",
    "testing <- norway[-train_ind, ]"
   ]
  },
  {
   "cell_type": "code",
   "execution_count": 87,
   "metadata": {},
   "outputs": [
    {
     "name": "stdout",
     "output_type": "stream",
     "text": [
      "\n",
      "Call:\n",
      "lm(formula = training$Quantity ~ training$Pct, data = training)\n",
      "\n",
      "Coefficients:\n",
      " (Intercept)  training$Pct  \n",
      "       1.197       110.865  \n",
      "\n"
     ]
    }
   ],
   "source": [
    "LinearRegressionModel3 <- lm(training$Quantity ~ training$Pct, data=training)\n",
    "print (LinearRegressionModel3)"
   ]
  },
  {
   "cell_type": "code",
   "execution_count": 103,
   "metadata": {},
   "outputs": [
    {
     "name": "stdout",
     "output_type": "stream",
     "text": [
      "\n",
      "Call:\n",
      "lm(formula = testing$Quantity ~ testing$Pct, data = testing)\n",
      "\n",
      "Coefficients:\n",
      "(Intercept)  testing$Pct  \n",
      "      1.323      111.277  \n",
      "\n"
     ]
    }
   ],
   "source": [
    "LinearRegressionModel4 <- lm(testing$Quantity ~ testing$Pct, data=testing)\n",
    "print (LinearRegressionModel4)"
   ]
  },
  {
   "cell_type": "code",
   "execution_count": 88,
   "metadata": {},
   "outputs": [
    {
     "name": "stdout",
     "output_type": "stream",
     "text": [
      "package 'Metrics' successfully unpacked and MD5 sums checked\n",
      "\n",
      "The downloaded binary packages are in\n",
      "\tC:\\Users\\Admin\\AppData\\Local\\Temp\\RtmpsB9qXU\\downloaded_packages\n"
     ]
    },
    {
     "name": "stderr",
     "output_type": "stream",
     "text": [
      "Warning message:\n",
      "\"package 'Metrics' was built under R version 3.6.3\""
     ]
    }
   ],
   "source": [
    "install.packages(\"Metrics\")\n",
    "library(\"Metrics\")"
   ]
  },
  {
   "cell_type": "code",
   "execution_count": 113,
   "metadata": {},
   "outputs": [
    {
     "data": {
      "text/html": [
       "NaN"
      ],
      "text/latex": [
       "NaN"
      ],
      "text/markdown": [
       "NaN"
      ],
      "text/plain": [
       "[1] NaN"
      ]
     },
     "metadata": {},
     "output_type": "display_data"
    }
   ],
   "source": [
    "mae(actual = LinearRegressionModel3$Pct, predicted = LinearRegressionModel4$Pct)"
   ]
  },
  {
   "cell_type": "code",
   "execution_count": 119,
   "metadata": {},
   "outputs": [
    {
     "data": {
      "text/html": [
       "NaN"
      ],
      "text/latex": [
       "NaN"
      ],
      "text/markdown": [
       "NaN"
      ],
      "text/plain": [
       "[1] NaN"
      ]
     },
     "metadata": {},
     "output_type": "display_data"
    }
   ],
   "source": [
    "mape(actual = norway$Pct, predicted = LinearRegressionModel4$Pct)"
   ]
  },
  {
   "cell_type": "code",
   "execution_count": 118,
   "metadata": {},
   "outputs": [
    {
     "data": {
      "text/html": [
       "NaN"
      ],
      "text/latex": [
       "NaN"
      ],
      "text/markdown": [
       "NaN"
      ],
      "text/plain": [
       "[1] NaN"
      ]
     },
     "metadata": {},
     "output_type": "display_data"
    }
   ],
   "source": [
    "rmse(actual = LinearRegressionModel3$Pct, predicted = LinearRegressionModel4$Pct)"
   ]
  },
  {
   "cell_type": "code",
   "execution_count": null,
   "metadata": {},
   "outputs": [],
   "source": []
  }
 ],
 "metadata": {
  "kernelspec": {
   "display_name": "R",
   "language": "R",
   "name": "ir"
  },
  "language_info": {
   "codemirror_mode": "r",
   "file_extension": ".r",
   "mimetype": "text/x-r-source",
   "name": "R",
   "pygments_lexer": "r",
   "version": "3.6.1"
  }
 },
 "nbformat": 4,
 "nbformat_minor": 4
}
